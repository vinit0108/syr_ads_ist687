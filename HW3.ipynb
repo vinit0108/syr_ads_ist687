{
  "nbformat": 4,
  "nbformat_minor": 0,
  "metadata": {
    "kernelspec": {
      "display_name": "R",
      "language": "R",
      "name": "ir"
    },
    "language_info": {
      "codemirror_mode": "r",
      "file_extension": ".r",
      "mimetype": "text/x-r-source",
      "name": "R",
      "pygments_lexer": "r",
      "version": "4.0.3"
    },
    "colab": {
      "name": "HW3.ipynb",
      "provenance": [],
      "include_colab_link": true
    }
  },
  "cells": [
    {
      "cell_type": "markdown",
      "metadata": {
        "id": "view-in-github",
        "colab_type": "text"
      },
      "source": [
        "<a href=\"https://colab.research.google.com/github/chaithrakc/syr_ads_ist687/blob/main/HW3.ipynb\" target=\"_parent\"><img src=\"https://colab.research.google.com/assets/colab-badge.svg\" alt=\"Open In Colab\"/></a>"
      ]
    },
    {
      "cell_type": "markdown",
      "metadata": {
        "id": "N7gVqmYzXe78"
      },
      "source": [
        "# Intro to Data Science HW 3\n",
        "\n",
        "##### Copyright Jeffrey Stanton, Jeffrey Saltz, and Jasmina Tacheva"
      ]
    },
    {
      "cell_type": "code",
      "metadata": {
        "id": "TNJRi0RnXe8B"
      },
      "source": [
        "# Enter your name here: "
      ],
      "execution_count": null,
      "outputs": []
    },
    {
      "cell_type": "markdown",
      "metadata": {
        "id": "D49u4OkwXe8F"
      },
      "source": [
        "### Attribution statement: (choose only one and delete the rest)"
      ]
    },
    {
      "cell_type": "code",
      "metadata": {
        "id": "kSOQu-_0Xe8G"
      },
      "source": [
        "# 1. I did this homework by myself, with help from the book and the professor.\n",
        "# 2. I did this homework with help from the book and the professor and these Internet sources:\n",
        "# 3. I did this homework with help from <Name of another student> but did not cut and paste any code."
      ],
      "execution_count": null,
      "outputs": []
    },
    {
      "cell_type": "markdown",
      "metadata": {
        "id": "8E0JjWBOXe8H"
      },
      "source": [
        "### Reminders of things to practice from last week: \n",
        "Make a data frame\t\tdata.frame( ) <br>\n",
        "Row index of max/min\twhich.max( )  which.min( )<br>\n",
        "Sort value or order rows\tsort( )   order( )<br>\n",
        "Descriptive statistics \tmean( ) sum( ) max( ) <br>\n",
        "Conditional statement\tif (condition) “true stuff” else “false stuff”<br>\n",
        "\n",
        "### This Week: \n",
        "Often, when you get a dataset, it is not in the format you want. You can (and should) use code to refine the dataset to become more useful. As Chapter 6 of Introduction to Data Science mentions, this is called “data munging.” In this homework, you will read in a dataset from the web and work on it (in a data frame) to improve its usefulness.\n"
      ]
    },
    {
      "cell_type": "markdown",
      "metadata": {
        "id": "iap8TioPXe8J"
      },
      "source": [
        "## Part 1: Use read_csv( ) to read a CSV file from the web into a data frame:"
      ]
    },
    {
      "cell_type": "markdown",
      "metadata": {
        "id": "DoIIaGHkXe8K"
      },
      "source": [
        "A.\tUse R code to read directly from a URL on the web. Store the dataset into a new dataframe, called *dfComps*. <br>\n",
        "The URL is:    <br>\n",
        "\"https://intro-datascience.s3.us-east-2.amazonaws.com/companies1.csv\" <br>\n",
        "**Hint:** use read_csv( ), not read.csv( ). This is from the **tidyverse package**. Check the help to compare them.\n"
      ]
    },
    {
      "cell_type": "code",
      "metadata": {
        "id": "Xm0qjYAtXe8L"
      },
      "source": [
        ""
      ],
      "execution_count": null,
      "outputs": []
    },
    {
      "cell_type": "markdown",
      "metadata": {
        "id": "7yYay4oQXe8M"
      },
      "source": [
        "## Part 2: Create a new data frame that only contains companies with a homepage URL:"
      ]
    },
    {
      "cell_type": "markdown",
      "metadata": {
        "id": "vaxxGdA1Xe8N"
      },
      "source": [
        "B.\tUse View( ), head( ), and tail( ) to examine the **dfComps** dataframe. <br>\n",
        "**Add a block comment that briefly describes what you see.**"
      ]
    },
    {
      "cell_type": "code",
      "metadata": {
        "id": "kj0vgO_HXe8N"
      },
      "source": [
        ""
      ],
      "execution_count": null,
      "outputs": []
    },
    {
      "cell_type": "markdown",
      "metadata": {
        "id": "0VpP6OyPXe8N"
      },
      "source": [
        "C.\tCreate a variable (called **noURL**) that has a value of **TRUE** if a company is missing a homepage URL. This variable should be a part of **dfComps**, not just a standalone vector."
      ]
    },
    {
      "cell_type": "code",
      "metadata": {
        "id": "OH-6t_UdXe8O"
      },
      "source": [
        ""
      ],
      "execution_count": null,
      "outputs": []
    },
    {
      "cell_type": "markdown",
      "metadata": {
        "id": "IItaYACjXe8O"
      },
      "source": [
        "D.\tUse the table( ) command to summarize the contents of **noURL**. <br>\n",
        "**Write a comment interpreting what you see – how many companies are missing a homepage URL?**"
      ]
    },
    {
      "cell_type": "code",
      "metadata": {
        "id": "CuyXmKz1Xe8O"
      },
      "source": [
        ""
      ],
      "execution_count": null,
      "outputs": []
    },
    {
      "cell_type": "markdown",
      "metadata": {
        "id": "twM6XlY5Xe8O"
      },
      "source": [
        "E.\tUse **subsetting** to create a new dataframe that contains only the companies with homepage URLs (store that dataframe in **urlComps**)."
      ]
    },
    {
      "cell_type": "code",
      "metadata": {
        "id": "9qD-5n4YXe8O"
      },
      "source": [
        ""
      ],
      "execution_count": null,
      "outputs": []
    },
    {
      "cell_type": "markdown",
      "metadata": {
        "id": "hv3fK78_Xe8P"
      },
      "source": [
        "F.\tUse the dim() command on **urlComps** to confirm that the data frame contains **44,435** observations and **19** columns/variables."
      ]
    },
    {
      "cell_type": "code",
      "metadata": {
        "id": "S4TUCj8QXe8P"
      },
      "source": [
        ""
      ],
      "execution_count": null,
      "outputs": []
    },
    {
      "cell_type": "markdown",
      "metadata": {
        "id": "sc02Lz8GXe8P"
      },
      "source": [
        "## Part 3: Analyze the numeric variables in the dataframe."
      ]
    },
    {
      "cell_type": "markdown",
      "metadata": {
        "id": "K9csKus7Xe8P"
      },
      "source": [
        "G.\tHow many **numeric variables** does the dataframe have? You can figure that out by looking at the output of **str(urlComps)**. "
      ]
    },
    {
      "cell_type": "code",
      "metadata": {
        "id": "nV9Qj-QJXe8P"
      },
      "source": [
        ""
      ],
      "execution_count": null,
      "outputs": []
    },
    {
      "cell_type": "markdown",
      "metadata": {
        "id": "m6J4CgPMXe8P"
      },
      "source": [
        "H.\tWhat is the average number of funding rounds for the companies in **urlComps**?"
      ]
    },
    {
      "cell_type": "code",
      "metadata": {
        "id": "n4TuIR5QXe8Q"
      },
      "source": [
        ""
      ],
      "execution_count": null,
      "outputs": []
    },
    {
      "cell_type": "markdown",
      "metadata": {
        "id": "eQasEa02Xe8Q"
      },
      "source": [
        "I.\tWhat year was the oldest company in the dataframe founded? <br>\n",
        "**Hint:** If you get a value of “NA,” most likely there are missing values in this variable which preclude R from properly calculating the min & max values. Instead of running, for example, mean(urlComps$founded_year), something like this will work for determining the average: "
      ]
    },
    {
      "cell_type": "code",
      "metadata": {
        "id": "0GYIiLPjXe8Q",
        "outputId": "2a57a263-fb97-4568-b37f-a6cee8cce731"
      },
      "source": [
        "mean(urlComps$founded_year, na.rm=TRUE)"
      ],
      "execution_count": null,
      "outputs": [
        {
          "ename": "ERROR",
          "evalue": "Error in mean(urlComps$founded_year, na.rm = TRUE): object 'urlComps' not found\n",
          "output_type": "error",
          "traceback": [
            "Error in mean(urlComps$founded_year, na.rm = TRUE): object 'urlComps' not found\nTraceback:\n",
            "1. mean(urlComps$founded_year, na.rm = TRUE)"
          ]
        }
      ]
    },
    {
      "cell_type": "markdown",
      "metadata": {
        "id": "c4ScosrKXe8R"
      },
      "source": [
        "Now write the code to get the oldest company"
      ]
    },
    {
      "cell_type": "code",
      "metadata": {
        "id": "bz0APbWYXe8R"
      },
      "source": [
        ""
      ],
      "execution_count": null,
      "outputs": []
    },
    {
      "cell_type": "markdown",
      "metadata": {
        "id": "yTMZBdbiXe8R"
      },
      "source": [
        "J.\tCreate another dataframe containing the companies that do not have homepage URLs. Find out the mean number of funding rounds for those companies. Compare that to the answer you recorded for problem H."
      ]
    },
    {
      "cell_type": "code",
      "metadata": {
        "id": "ztPksoUKXe8R"
      },
      "source": [
        ""
      ],
      "execution_count": null,
      "outputs": []
    },
    {
      "cell_type": "markdown",
      "metadata": {
        "id": "Wb1PG_bXXe8R"
      },
      "source": [
        "## Part 4:  Use string operations to clean the data."
      ]
    },
    {
      "cell_type": "markdown",
      "metadata": {
        "id": "Vd86WAqSXe8R"
      },
      "source": [
        "K.\tThe **permalink variable** in **urlComps** contains the name of each company but the names are currently preceded by the prefix “/organization/”. We can use gsub() or str_replace (from tidyverse) to clean the values of this variable:"
      ]
    },
    {
      "cell_type": "code",
      "metadata": {
        "id": "hUlD386TXe8R"
      },
      "source": [
        "urlComps$company <- gsub(\"/organization/\", \"\", urlComps$permalink)\n",
        "\n",
        "library(tidyverse)\n",
        "#write the code to do the same cleanup, but with str_replace from tidyverse\n",
        "\n"
      ],
      "execution_count": null,
      "outputs": []
    },
    {
      "cell_type": "markdown",
      "metadata": {
        "id": "TOF2yS95Xe8S"
      },
      "source": [
        "L.\tCan you identify another variable which should be numeric but is currently coded as character? Use the as.numeric() function to add a new variable to **urlComps** which contains the values from the char variable as numbers. Do you notice anything about the number of NA values in this new column compared to the original “char” one?  "
      ]
    },
    {
      "cell_type": "code",
      "metadata": {
        "id": "9Nre51dDXe8S"
      },
      "source": [
        ""
      ],
      "execution_count": null,
      "outputs": []
    },
    {
      "cell_type": "markdown",
      "metadata": {
        "id": "mUKm9BvSXe8S"
      },
      "source": [
        "M.\tTo ensure the char values are converted correctly, we first need to remove the spaces between the digits in the variable. Check if this works:"
      ]
    },
    {
      "cell_type": "code",
      "metadata": {
        "id": "TLfDgUbNXe8S"
      },
      "source": [
        "library(stringi)\n",
        "urlComps$funding_new <- stri_replace_all_charclass(urlComps$funding_total_usd,\"\\\\p{WHITE_SPACE}\", \"\")\n",
        "urlComps"
      ],
      "execution_count": null,
      "outputs": []
    },
    {
      "cell_type": "markdown",
      "metadata": {
        "id": "CLNwOHVZXe8S"
      },
      "source": [
        "N. You are now ready to convert **urlComps$funding_new** to numeric using as.numeric() again. Calculate the average funding amount for **urlComps**. If you get “NA,” try using the **na.rm=TRUE** argument from problem I."
      ]
    },
    {
      "cell_type": "code",
      "metadata": {
        "id": "GAA__TgVXe8S"
      },
      "source": [
        ""
      ],
      "execution_count": null,
      "outputs": []
    },
    {
      "cell_type": "markdown",
      "metadata": {
        "id": "YiYgnLuAXe8S"
      },
      "source": [
        "## Part 5:  Create a function to automate the process from L-N:"
      ]
    },
    {
      "cell_type": "markdown",
      "metadata": {
        "id": "nj8IIc8pXe8S"
      },
      "source": [
        "O.\tThe following function should work most of the time. Make sure to run this code before trying to test it. That is how you make the new function known to R. **Add comments to each line explaining what it does:**"
      ]
    },
    {
      "cell_type": "code",
      "metadata": {
        "id": "4fj1aDrLXe8S"
      },
      "source": [
        "library(stringi)\n",
        "convertCharToNum <- function(char_string) {\n",
        "  step1 <- stri_replace_all_charclass(char_string,\"\\\\p{WHITE_SPACE}\", \"\")\n",
        "  step2 <- as.numeric(step1)\n",
        "  return(step2)\n",
        "}"
      ],
      "execution_count": null,
      "outputs": []
    },
    {
      "cell_type": "markdown",
      "metadata": {
        "id": "Znm4NjAuXe8T"
      },
      "source": [
        "P.\tRun your new function on the **funding_total_usd** variable in **urlComps**:"
      ]
    },
    {
      "cell_type": "code",
      "metadata": {
        "id": "nS3-m5UpXe8T"
      },
      "source": [
        "convertCharToNum(\" 1234\")"
      ],
      "execution_count": null,
      "outputs": []
    },
    {
      "cell_type": "markdown",
      "metadata": {
        "id": "1uTG03H5Xe8T"
      },
      "source": [
        "Q. Create a new function, that does the same functionality as 'convertCharToNum', but uses tidyverse stringr commands"
      ]
    },
    {
      "cell_type": "code",
      "metadata": {
        "id": "xE78-YQUXe8T"
      },
      "source": [
        "library(tidyverse)\n",
        "convertCharToNumNew <- function(char_string) {\n",
        "  #put your code here\n",
        "  \n",
        "  #make sure there is a return statement\n",
        "}"
      ],
      "execution_count": null,
      "outputs": []
    },
    {
      "cell_type": "code",
      "metadata": {
        "id": "K1lYO9NvXe8T"
      },
      "source": [
        "#test the new function\n",
        "convertCharToNumNew(\" 1234\")"
      ],
      "execution_count": null,
      "outputs": []
    },
    {
      "cell_type": "markdown",
      "metadata": {
        "id": "JI0ZQ1kiXe8T"
      },
      "source": [
        "R.\tAssign the result of P to a variable in the dataframe:"
      ]
    },
    {
      "cell_type": "code",
      "metadata": {
        "id": "AzscBmgqXe8T"
      },
      "source": [
        ""
      ],
      "execution_count": null,
      "outputs": []
    },
    {
      "cell_type": "markdown",
      "metadata": {
        "id": "Oa12tWEgXe8T"
      },
      "source": [
        "S. Calculate the average of this new variable (you may need to use the rm.na=TRUE argument again). Is it the same as the value you got in N? Explain."
      ]
    },
    {
      "cell_type": "code",
      "metadata": {
        "id": "eiJG7b3VXe8T"
      },
      "source": [
        ""
      ],
      "execution_count": null,
      "outputs": []
    }
  ]
}